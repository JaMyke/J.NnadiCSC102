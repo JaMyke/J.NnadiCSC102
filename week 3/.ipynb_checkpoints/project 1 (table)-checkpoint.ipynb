{
 "cells": [
  {
   "cell_type": "code",
   "execution_count": null,
   "id": "c40c9013",
   "metadata": {},
   "outputs": [],
   "source": [
    "# from tabulate import tabulate\n",
    "\n",
    "# Create a lists for the girls\n",
    "girls = [\n",
    "    ['Samantha', 17, 5.5, 80, 'Female'],\n",
    "    ['Jada', 16, 6.0, 85, 'Female'],\n",
    "    ['Jane', 17, 5.4, 70, 'Female'],\n",
    "    ['Claire', 18, 5.9, 60, 'Female'],\n",
    "    ['Elizabeth', 16, 5.6, 76, 'Female'],\n",
    "    ['Mary', 18, 5.5, 66, 'Female'],\n",
    "    ['Susan', 17, 6.1, 87, 'Female'],\n",
    "    ['Waje', 20, 6.0, 95, 'Female'],\n",
    "    ['Taibat', 19, 5.7, 50, 'Female'],\n",
    "    ['Lilian', 17, 5.5, 49, 'Female']\n",
    "]\n",
    "\n",
    "# Create a list for the boys\n",
    "boys = [\n",
    "    ['Charles', 19, 5.7, 74, 'Male'],\n",
    "    ['Jude', 16, 5.9, 87, 'Male'],\n",
    "    ['James', 18, 5.8, 75, 'Male'],\n",
    "    ['Kelvin', 17, 6.1, 68, 'Male'],\n",
    "    ['Biodun', 20, 5.9, 66, 'Male'],\n",
    "    ['Wale', 19, 5.5, 78, 'Male'],\n",
    "    ['Kunle', 16, 6.1, 87, 'Male'],\n",
    "    ['Matthew', 18, 5.4, 98, 'Male'],\n",
    "    ['Tom', 17, 5.8, 54, 'Male'],\n",
    "    ['Kayode', 19, 5.7, 60, 'Male']\n",
    "]\n",
    "\n",
    "# Create headers for the table\n",
    "headers = ['Name', 'Age', 'Height', 'Score', 'Gender']\n",
    "\n",
    "# Concatenate the girls and boys data\n",
    "students = girls + boys\n",
    "\n",
    "# Display the table\n",
    "print(tabulate(students, headers))\n"
   ]
  },
  {
   "cell_type": "code",
   "execution_count": null,
   "id": "c8f8a4b5",
   "metadata": {},
   "outputs": [],
   "source": [
    "years_of_experience = int(input(\"Enter your years of experience: \"))\n",
    "age = int(input(\"Enter your age: \"))\n",
    "\n",
    "if years_of_experience > 25 and age >= 55:\n",
    "    print(\"Your ATR is 5600000\")\n",
    "elif years_of_experience > 20 and age >= 45:\n",
    "    print(\"Your ATR is 4480000\")\n",
    "elif years_of_experience > 10 and age >= 35:\n",
    "    print(\"Your ATR is 1500000\")\n",
    "else:\n",
    "    print(\"Your ATR is 550000\")\n"
   ]
  }
 ],
 "metadata": {
  "kernelspec": {
   "display_name": "Python 3 (ipykernel)",
   "language": "python",
   "name": "python3"
  },
  "language_info": {
   "codemirror_mode": {
    "name": "ipython",
    "version": 3
   },
   "file_extension": ".py",
   "mimetype": "text/x-python",
   "name": "python",
   "nbconvert_exporter": "python",
   "pygments_lexer": "ipython3",
   "version": "3.10.9"
  }
 },
 "nbformat": 4,
 "nbformat_minor": 5
}
