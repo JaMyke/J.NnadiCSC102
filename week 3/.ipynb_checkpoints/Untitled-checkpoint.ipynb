{
 "cells": [
  {
   "cell_type": "code",
   "execution_count": 4,
   "id": "0bfd11c9",
   "metadata": {},
   "outputs": [
    {
     "ename": "IndentationError",
     "evalue": "unindent does not match any outer indentation level (<tokenize>, line 5)",
     "output_type": "error",
     "traceback": [
      "\u001b[1;36m  File \u001b[1;32m<tokenize>:5\u001b[1;36m\u001b[0m\n\u001b[1;33m    elif years_of_experience > 20 and age >= 45:\u001b[0m\n\u001b[1;37m    ^\u001b[0m\n\u001b[1;31mIndentationError\u001b[0m\u001b[1;31m:\u001b[0m unindent does not match any outer indentation level\n"
     ]
    }
   ],
   "source": [
    "years_of_experience = int(input(\"Enter your years of experience: \"))\n",
    "age = int(input(\"Enter your age: \"))\n",
    "\n",
    "if years_of_experience > 25 and age >= 55:\n",
    "    print(\"Your ATR is 5600000\")\n",
    "elif years_of_experience > 20 and age >= 45:\n",
    "    print(\"Your ATR is 4480000\")\n",
    "elif years_of_experience > 10 and age >= 35:\n",
    "    print(\"Your ATR is 1500000\")\n",
    "else:\n",
    "    print(\"Your ATR is 550000\")\n"
   ]
  },
  {
   "cell_type": "code",
   "execution_count": null,
   "id": "55047fd8",
   "metadata": {},
   "outputs": [],
   "source": []
  }
 ],
 "metadata": {
  "kernelspec": {
   "display_name": "Python 3 (ipykernel)",
   "language": "python",
   "name": "python3"
  },
  "language_info": {
   "codemirror_mode": {
    "name": "ipython",
    "version": 3
   },
   "file_extension": ".py",
   "mimetype": "text/x-python",
   "name": "python",
   "nbconvert_exporter": "python",
   "pygments_lexer": "ipython3",
   "version": "3.10.9"
  }
 },
 "nbformat": 4,
 "nbformat_minor": 5
}
