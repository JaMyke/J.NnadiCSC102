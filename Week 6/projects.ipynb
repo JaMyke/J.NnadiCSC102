{
 "cells": [
  {
   "cell_type": "code",
   "execution_count": 1,
   "id": "d41d164a",
   "metadata": {},
   "outputs": [],
   "source": [
    "#Project 1\n",
    "import random\n",
    "\n",
    "class Employee:\n",
    "    employees = [\"Mary Evans\", \"Eyo Ishan\", \"Durojaiye Dare\", \"Adams Ali\", \"Andrew Ugwu\", \"Stella Mankinde\", \"Jane Akibo\", \"Ago James\", \"Michell Taiwo\", \"Abraham Jones\" , \"Nicole Anide\", \"Kosi Korso\", \"Adele Martins\", \"Emmanuel Ojo\", \"Ajayi Fatima\"]\n",
    "    tasks = [\"Loading\", \"Transporting\", \"Reviewing Orders\", \"Customer Service\", \"Delivering Items\"]\n",
    "    attendance = []\n",
    "    \n",
    "    def check_employee(self, name):\n",
    "        if name in self.employees:\n",
    "            return True\n",
    "        else:\n",
    "            return False\n",
    "        \n",
    "    def take_attendance(self, name):\n",
    "        if name in self.attendance:\n",
    "            print(f\"{name} is already marked present.\")\n",
    "        else:\n",
    "            self.attendance.append(name)\n",
    "            print(f\"{name} is marked present.\")\n",
    "            \n",
    "    def assign_task(self, name):\n",
    "        task = random.choice(self.tasks)\n",
    "        print(f\"{name} has been assigned the task of {task}.\")\n",
    "        \n",
    "    def refuse_access(self):\n",
    "        print(\"Sorry, you are not authorized to access the system.\")\n",
    "\n",
    "        \n",
    " "
   ]
  },
  {
   "cell_type": "code",
   "execution_count": null,
   "id": "ef0d05fe",
   "metadata": {},
   "outputs": [],
   "source": []
  }
 ],
 "metadata": {
  "kernelspec": {
   "display_name": "Python 3 (ipykernel)",
   "language": "python",
   "name": "python3"
  },
  "language_info": {
   "codemirror_mode": {
    "name": "ipython",
    "version": 3
   },
   "file_extension": ".py",
   "mimetype": "text/x-python",
   "name": "python",
   "nbconvert_exporter": "python",
   "pygments_lexer": "ipython3",
   "version": "3.10.9"
  }
 },
 "nbformat": 4,
 "nbformat_minor": 5
}
