{
 "cells": [
  {
   "cell_type": "code",
   "execution_count": null,
   "id": "66ab3be3",
   "metadata": {},
   "outputs": [],
   "source": [
    "# Enter principal, interest, time and frequency of interest \n",
    "principal = float(input(\"Enter the principal amount: \"))\n",
    "rate = float(input(\"Enter the interest rate: \"))\n",
    "time = float(input(\"Enter the time period (in years): \"))\n",
    "n = float(input(\"Enter the frequency of interest: \"))\n",
    "\n",
    "# Calculate compound interest\n",
    "compound_interest = principal * (1 + rate / n) ** (n * time) - principal\n",
    "\n",
    "# Display compound interest\n",
    "print(\"Compound interest is: \", compound_interest)\n"
   ]
  }
 ],
 "metadata": {
  "kernelspec": {
   "display_name": "Python 3 (ipykernel)",
   "language": "python",
   "name": "python3"
  },
  "language_info": {
   "codemirror_mode": {
    "name": "ipython",
    "version": 3
   },
   "file_extension": ".py",
   "mimetype": "text/x-python",
   "name": "python",
   "nbconvert_exporter": "python",
   "pygments_lexer": "ipython3",
   "version": "3.10.9"
  }
 },
 "nbformat": 4,
 "nbformat_minor": 5
}
