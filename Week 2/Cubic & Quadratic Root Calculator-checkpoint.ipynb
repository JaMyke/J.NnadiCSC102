{
 "cells": [
  {
   "cell_type": "code",
   "execution_count": null,
   "id": "b95698a5",
   "metadata": {},
   "outputs": [],
   "source": [
    "import cmath \n",
    "#Request Inputs\n",
    "a = float(input(\"enter the coefficient of x^3: \"))\n",
    "b = float(input(\"enter the coefficient of x^2: \"))\n",
    "c = float(input(\"enter the coefficient of x: \"))\n",
    "d = float(input(\"enter the integer constant: \"))\n",
    "\n",
    "#Calculate the Discriminant\n",
    "discriminant = (b**2) - (4*a*c)\n",
    "\n",
    "#when discriminant is negative\n",
    "if discriminant < 0:\n",
    "    root1 = (-b + cmath.sqrt(discriminant))/(2*a)\n",
    "    root2 = (-b - cmath.sqrt(discriminant))/(2*a)\n",
    "    root3 = (-b + cmath.sqrt(abs(discriminant)))/(2*a)\n",
    "    root4 = (-b - cmath.sqrt(abs(discriminant)))/(2*a)\n",
    "    print(\"The complex roots are: \")\n",
    "    print(root1, root2, root3, root4)\n",
    "\n",
    "# find the real roots if discriminant is zero or positive    \n",
    "else:\n",
    "    root1 = (-b + (discriminant**(1/3) + (-discriminant)**(1/3))/(3*a))\n",
    "    root2 = (-b - (discriminant**(1/3) + (-discriminant)**(1/3))/(3*a))\n",
    "    print(\"The real roots are: \")\n",
    "    print(root1, root2)\n",
    "\n"
   ]
  },
  {
   "cell_type": "code",
   "execution_count": null,
   "id": "027df7a6",
   "metadata": {},
   "outputs": [],
   "source": [
    "import cmath\n",
    "\n",
    "#request inputs\n",
    "a = float(input(\"Enter the coefficient of x^4: \"))\n",
    "b = float(input(\"Enter the coefficient of x^3: \"))\n",
    "c = float(input(\"Enter the coefficient of x^2: \"))\n",
    "d = float(input(\"Enter the coefficient of x: \"))\n",
    "e = float(input(\"Enter the constant integer: \"))\n",
    "\n",
    "# define the auxiliary variables\n",
    "f = (8*a*c - 3*(b**2))/(8*(a**2))\n",
    "g = (b**3 - 4*a*b*c + 8*(a**2)*d)/(8*(a**3))\n",
    "h = (-3*(b**4) + 256*(a**3)*e - 64*a*(b**2)*d + 16*a*b*c**2 - 16*(a**2)*b**2*c)/(256*(a**4))\n",
    "\n",
    "# solve for the discriminant\n",
    "discriminant = (g**2) - (4*f*h)\n",
    "\n",
    "# solve for the complex roots if discriminant is negative\n",
    "if discriminant < 0:\n",
    "    root1 = (-g + cmath.sqrt(discriminant))/(2*f)\n",
    "    root2 = (-g - cmath.sqrt(discriminant))/(2*f)\n",
    "    root3 = (-b + cmath.sqrt(abs(discriminant)))/(4*a)\n",
    "    root4 = (-b - cmath.sqrt(abs(discriminant)))/(4*a)\n",
    "    print(\"The complex roots are: \")\n",
    "    print(root1, root2, root3, root4)\n",
    "\n",
    "# solve for the real roots if discriminant is zero or positive\n",
    "else:\n",
    "    i = cmath.sqrt(-1)\n",
    "    C = ((g + cmath.sqrt(discriminant))/(2*f))**(1/3)\n",
    "    D = ((g - cmath.sqrt(discriminant))/(2*f))**(1/3)\n",
    "    root1 = (-b/(4*a)) - (C + D)\n",
    "    root2 = (-b/(4*a)) + (0.5 + 0.5*i*cmath.sqrt(3))*(C - D)\n",
    "    root3 = (-b/(4*a)) + (0.5 - 0.5*i*cmath.sqrt(3))*(C - D)\n",
    "    root4 = (-b/(4*a)) + (C + D)\n",
    "    print(\"The real roots are: \")\n",
    "    print(root1, root2, root3, root4)\n"
   ]
  }
 ],
 "metadata": {
  "kernelspec": {
   "display_name": "Python 3 (ipykernel)",
   "language": "python",
   "name": "python3"
  },
  "language_info": {
   "codemirror_mode": {
    "name": "ipython",
    "version": 3
   },
   "file_extension": ".py",
   "mimetype": "text/x-python",
   "name": "python",
   "nbconvert_exporter": "python",
   "pygments_lexer": "ipython3",
   "version": "3.10.9"
  }
 },
 "nbformat": 4,
 "nbformat_minor": 5
}
