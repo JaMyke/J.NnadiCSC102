{
 "cells": [
  {
   "cell_type": "code",
   "execution_count": 4,
   "id": "16422eb0",
   "metadata": {},
   "outputs": [
    {
     "name": "stdout",
     "output_type": "stream",
     "text": [
      "input your posetive number3\n",
      "input your posetive number6\n",
      "input your posetive number-7\n",
      "your sum is:  9.0\n"
     ]
    }
   ],
   "source": [
    "# posetive number calculator\n",
    "s=0\n",
    "while True:\n",
    "    i =  float(input(\"input your posetive number: \"))\n",
    "    if i >= 0:\n",
    "        s+=i \n",
    "    else:\n",
    "         break\n",
    "print (\"your sum is: \", s)"
   ]
  },
  {
   "cell_type": "code",
   "execution_count": null,
   "id": "aacb5d54",
   "metadata": {},
   "outputs": [],
   "source": []
  }
 ],
 "metadata": {
  "kernelspec": {
   "display_name": "Python 3 (ipykernel)",
   "language": "python",
   "name": "python3"
  },
  "language_info": {
   "codemirror_mode": {
    "name": "ipython",
    "version": 3
   },
   "file_extension": ".py",
   "mimetype": "text/x-python",
   "name": "python",
   "nbconvert_exporter": "python",
   "pygments_lexer": "ipython3",
   "version": "3.10.9"
  }
 },
 "nbformat": 4,
 "nbformat_minor": 5
}
