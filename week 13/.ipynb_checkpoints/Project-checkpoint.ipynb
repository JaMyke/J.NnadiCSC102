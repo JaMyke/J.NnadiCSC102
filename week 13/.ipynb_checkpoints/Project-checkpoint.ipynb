{
 "cells": [
  {
   "cell_type": "code",
   "execution_count": null,
   "id": "7685f65b",
   "metadata": {},
   "outputs": [],
   "source": [
    "import pandas as pd\n",
    "\n",
    "def student_details():\n",
    "    details = []\n",
    "    name = input(\"Enter student name: \")\n",
    "    matric_number = input(\"Enter matric number: \")\n",
    "    department = input(\"Enter department: \")\n",
    "    level = input(\"Enter level: \")\n",
    "    details.append([name, matric_number, department, level])\n",
    "    return details\n",
    "\n",
    "# Input student details\n",
    "details = student_details()\n",
    "\n",
    "# Create DataFrame\n",
    "df = pd.DataFrame(details, columns=[\"Student Name\", \"Matric Number\", \"Department\", \"Level\"])\n",
    "\n",
    "# Display DataFrame\n",
    "print(df)\n",
    "\n",
    "# Save DataFrame to a .csv file\n",
    "df.to_csv(\"student_details.csv\")\n"
   ]
  },
  {
   "cell_type": "code",
   "execution_count": null,
   "id": "66a1eea8",
   "metadata": {},
   "outputs": [],
   "source": [
    "import pandas as pd\n",
    "\n",
    "# Create DataFrame with the provided data\n",
    "data = {\n",
    "    'Company': ['Enron', 'Anderson', 'GK Jones', 'Mica', 'Dune'],\n",
    "    'Year Founded': [1987, 1936, 2001, 1996, 2008],\n",
    "    'Shares': [1000000, 1500000, 3000000, 250000, 800000],\n",
    "    'Liabilities': [200000, 500000, 1500000, 50000, 300000]\n",
    "}\n",
    "\n",
    "df = pd.DataFrame(data)\n",
    "\n",
    "# Calculate assets and percentage leverage\n",
    "df['Assets'] = df['Shares']\n",
    "df['Percentage Leverage'] = df['Liabilities'] / df['Assets'] * 100\n",
    "\n",
    "# Display the DataFrame\n",
    "print(df)\n",
    "\n",
    "# Save DataFrame to a .csv file\n",
    "df.to_csv('company_details.csv')\n"
   ]
  }
 ],
 "metadata": {
  "kernelspec": {
   "display_name": "Python 3 (ipykernel)",
   "language": "python",
   "name": "python3"
  },
  "language_info": {
   "codemirror_mode": {
    "name": "ipython",
    "version": 3
   },
   "file_extension": ".py",
   "mimetype": "text/x-python",
   "name": "python",
   "nbconvert_exporter": "python",
   "pygments_lexer": "ipython3",
   "version": "3.10.9"
  }
 },
 "nbformat": 4,
 "nbformat_minor": 5
}
