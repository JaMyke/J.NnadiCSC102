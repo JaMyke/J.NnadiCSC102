{
 "cells": [
  {
   "cell_type": "code",
   "execution_count": 2,
   "id": "66ab3be3",
   "metadata": {},
   "outputs": [
    {
     "name": "stdout",
     "output_type": "stream",
     "text": [
      "Enter the principal: 1100\n",
      "Enter the rate: 2\n",
      "Enter the time: 6\n",
      "132.0\n"
     ]
    }
   ],
   "source": [
    "# Enter principal, rate and time  \n",
    "principal = float(input(\"Enter the principal: \"))\n",
    "rate = float(input(\"Enter the rate: \"))\n",
    "time = float(input(\"Enter the time: \"))\n",
    "\n",
    "# Calculate simple interest\n",
    "simple_interest = (principal *  rate * time) / 100\n",
    "\n",
    "# Display simple interest\n",
    "print(\"simple interest is: \", simple_interest)\n"
   ]
  },
  {
   "cell_type": "code",
   "execution_count": null,
   "id": "ce662a5c",
   "metadata": {},
   "outputs": [],
   "source": []
  }
 ],
 "metadata": {
  "kernelspec": {
   "display_name": "Python 3 (ipykernel)",
   "language": "python",
   "name": "python3"
  },
  "language_info": {
   "codemirror_mode": {
    "name": "ipython",
    "version": 3
   },
   "file_extension": ".py",
   "mimetype": "text/x-python",
   "name": "python",
   "nbconvert_exporter": "python",
   "pygments_lexer": "ipython3",
   "version": "3.10.9"
  }
 },
 "nbformat": 4,
 "nbformat_minor": 5
}
