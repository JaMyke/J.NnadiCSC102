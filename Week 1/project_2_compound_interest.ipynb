{
 "cells": [
  {
   "cell_type": "code",
   "execution_count": 1,
   "id": "fc2f43ee",
   "metadata": {},
   "outputs": [
    {
     "name": "stdout",
     "output_type": "stream",
     "text": [
      "Enter the principal: 1000\n",
      "Enter the rate: 3\n",
      "Enter the time: 6\n",
      "Enter the frequency of interest: 2\n",
      "Compound interest is:  59603644.775390625\n"
     ]
    }
   ],
   "source": [
    "# Enter principal, rate, time  and frequency of  interest\n",
    "principal = float(input(\"Enter the principal: \"))\n",
    "rate = float(input(\"Enter the rate: \"))\n",
    "time = float(input(\"Enter the time: \"))\n",
    "n = float(input(\"Enter the frequency of interest: \"))\n",
    "\n",
    "# Calculate compound interest\n",
    "compound_interest = principal * (1 + rate / n) ** (n * time) - principal\n",
    "\n",
    "# Print compound interest\n",
    "print(\"Compound interest is: \", compound_interest)\n"
   ]
  },
  {
   "cell_type": "code",
   "execution_count": null,
   "id": "bc257ae7",
   "metadata": {},
   "outputs": [],
   "source": []
  }
 ],
 "metadata": {
  "kernelspec": {
   "display_name": "Python 3 (ipykernel)",
   "language": "python",
   "name": "python3"
  },
  "language_info": {
   "codemirror_mode": {
    "name": "ipython",
    "version": 3
   },
   "file_extension": ".py",
   "mimetype": "text/x-python",
   "name": "python",
   "nbconvert_exporter": "python",
   "pygments_lexer": "ipython3",
   "version": "3.10.9"
  }
 },
 "nbformat": 4,
 "nbformat_minor": 5
}
