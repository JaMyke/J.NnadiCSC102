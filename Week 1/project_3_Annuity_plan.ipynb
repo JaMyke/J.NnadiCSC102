{
 "cells": [
  {
   "cell_type": "code",
   "execution_count": 5,
   "id": "a653e13b",
   "metadata": {},
   "outputs": [
    {
     "name": "stdout",
     "output_type": "stream",
     "text": [
      "Enter the periodic payment: 10000\n",
      "Enter the rate: 5\n",
      "Enter the time: 10\n",
      "Enter the frequency of interest: 20\n",
      "Annuity plan is: 40000.0\n"
     ]
    }
   ],
   "source": [
    "# Input periodic payment, rate, time and frequency of interest\n",
    "periodic_payment = float(input(\"Enter the periodic payment: \"))\n",
    "rate = float(input(\"Enter the rate: \"))\n",
    "time = float(input(\"Enter the time: \"))\n",
    "n = float(input(\"Enter the frequency of interest: \"))\n",
    "\n",
    "# Calculate annuity plan\n",
    "annuity_plan = periodic_payment * ((1 - (1 + rate / n) ** (-n * time)) / (rate / n))\n",
    "\n",
    "# Display annuity plan\n",
    "print(\"Annuity plan is:\", annuity_plan) \n"
   ]
  },
  {
   "cell_type": "code",
   "execution_count": null,
   "id": "a2396f5a",
   "metadata": {},
   "outputs": [],
   "source": []
  }
 ],
 "metadata": {
  "kernelspec": {
   "display_name": "Python 3 (ipykernel)",
   "language": "python",
   "name": "python3"
  },
  "language_info": {
   "codemirror_mode": {
    "name": "ipython",
    "version": 3
   },
   "file_extension": ".py",
   "mimetype": "text/x-python",
   "name": "python",
   "nbconvert_exporter": "python",
   "pygments_lexer": "ipython3",
   "version": "3.10.9"
  }
 },
 "nbformat": 4,
 "nbformat_minor": 5
}
