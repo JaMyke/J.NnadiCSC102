{
 "cells": [
  {
   "cell_type": "code",
   "execution_count": 11,
   "id": "289f58bb",
   "metadata": {},
   "outputs": [
    {
     "name": "stdout",
     "output_type": "stream",
     "text": [
      "Please enter your first name: Oluwatamilore\n",
      "Please enter your department: Logistics\n",
      "Welcome, Oluwatamilore ADENIRAN! Here's some information about JT Ventures:\n"
     ]
    }
   ],
   "source": [
    "#Project 1\n",
    "import csv\n",
    "\n",
    "# Define the function\n",
    "def check_employee(first_name, department):\n",
    "    file = open('jt-ventures.csv')\n",
    "    reader = csv.reader(file)\n",
    "    for row in reader:\n",
    "        if row[2] == first_name and row[3] == department:\n",
    "            print(f\"Welcome, {first_name} {row[1]}! Here's some information about JT Ventures:\")\n",
    "            return\n",
    "    print(\"Sorry, the employee does not exist.\")\n",
    "\n",
    "# ask the user for input\n",
    "first_name = input(\"Please enter your first name: \")\n",
    "department = input(\"Please enter your department: \")\n",
    "\n",
    "# Call the function in respects to the user input\n",
    "check_employee(first_name, department)\n"
   ]
  },
  {
   "cell_type": "code",
   "execution_count": 12,
   "id": "38d0279b",
   "metadata": {},
   "outputs": [
    {
     "name": "stdout",
     "output_type": "stream",
     "text": [
      "Enter your location (Ibeju-Lekki or Epe): Epe\n",
      "Enter the weight of your package: 60\n",
      "Your delivery fee is ₦5000\n"
     ]
    }
   ],
   "source": [
    "#project 2\n",
    "\n",
    "#Define the function\n",
    "\n",
    "def calculate_delivery_fee(location, weight):\n",
    "    if location == 'Ibeju-Lekki':\n",
    "        if weight >= 10:\n",
    "            return 2000\n",
    "        else:\n",
    "            return 1500\n",
    "    elif location == 'Epe':\n",
    "        if weight >= 10:\n",
    "            return 5000\n",
    "        else:\n",
    "            return 4000\n",
    "        \n",
    "# ask the user for input\n",
    "\n",
    "location = input('Enter your location (Ibeju-Lekki or Epe): ')\n",
    "weight = float(input('Enter the weight of your package: '))\n",
    "\n",
    "# Call the function in respects to the user input\n",
    "\n",
    "delivery_fee = calculate_delivery_fee(location, weight)\n",
    "\n",
    "if type(delivery_fee) == str:\n",
    "    print(delivery_fee)\n",
    "else:\n",
    "    print('Your delivery fee is ₦' + str(delivery_fee))\n",
    "\n",
    "\n",
    "    "
   ]
  }
 ],
 "metadata": {
  "kernelspec": {
   "display_name": "Python 3 (ipykernel)",
   "language": "python",
   "name": "python3"
  },
  "language_info": {
   "codemirror_mode": {
    "name": "ipython",
    "version": 3
   },
   "file_extension": ".py",
   "mimetype": "text/x-python",
   "name": "python",
   "nbconvert_exporter": "python",
   "pygments_lexer": "ipython3",
   "version": "3.10.9"
  }
 },
 "nbformat": 4,
 "nbformat_minor": 5
}
